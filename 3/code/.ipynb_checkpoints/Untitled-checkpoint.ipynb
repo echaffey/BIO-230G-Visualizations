{
 "cells": [
  {
   "cell_type": "code",
   "execution_count": null,
   "metadata": {},
   "outputs": [],
   "source": [
    "import numpy as np\n",
    "import pandas as pd\n",
    "import matplotlib.pyplot as plt\n",
    "from matplotlib.animation import FuncAnimation\n",
    "from celluloid import Camera"
   ]
  },
  {
   "cell_type": "markdown",
   "metadata": {},
   "source": [
    "### Data Visualization Makeover 3\n",
    "#### Source: https://www.federalreserve.gov/releases/z1/dataviz/dfa/distribute/chart/"
   ]
  },
  {
   "cell_type": "code",
   "execution_count": null,
   "metadata": {},
   "outputs": [],
   "source": [
    "DATA_SOURCE = 'wealth_distribution.xlsx'\n",
    "df = pd.read_excel(DATA_SOURCE)\n",
    "\n",
    "generations = df[[gen for gen in df.columns][1:]].to_numpy()\n",
    "dates = df['Date']\n",
    "\n",
    "maxes = np.max(generations, axis=0)\n",
    "total = maxes.sum()\n",
    "percentages = maxes/total\n",
    "\n",
    "percentages*100"
   ]
  },
  {
   "cell_type": "code",
   "execution_count": null,
   "metadata": {},
   "outputs": [],
   "source": [
    "def ani(date):\n",
    "    \n",
    "    ax.cla()\n",
    "    \n",
    "    for i in range(generations.shape[1]):\n",
    "        \n",
    "        ax.plot(dates.iloc[:date], \n",
    "                generations[:date, i], \n",
    "                linewidth=10,  \n",
    "                color=colors[i], \n",
    "                marker='o', \n",
    "                ms=30, \n",
    "                mec='None', \n",
    "                markevery=[-1], \n",
    "                fillstyle=None);\n",
    "            \n",
    "        plt.xticks(fontsize=24, color=text_color)\n",
    "        plt.yticks(fontsize=24, color=text_color)\n",
    "        ax.patch.set_facecolor(bg_color);\n",
    "        \n",
    "colors     = ['#7EB5A6', '#C36839', '#86340A', '#889EAF']\n",
    "bg_color   = '#F6F6F6'\n",
    "text_color = '#44546A'        \n",
    "        \n",
    "fig, ax = plt.subplots(figsize = (15, 10))\n",
    "fig.patch.set_facecolor(bg_color);\n",
    "\n",
    "\n",
    "ax.spines['top'].set_visible(False)\n",
    "ax.spines['right'].set_visible(False)\n",
    "ax.spines['bottom'].set_visible(False)\n",
    "ax.spines['left'].set_visible(False)\n",
    "\n",
    "ani = FuncAnimation(fig=fig, func=ani, frames=len(df), interval=dates.shape[0], repeat=False)\n",
    "ani.save('test.gif', writer='pillow', dpi=150)"
   ]
  }
 ],
 "metadata": {
  "kernelspec": {
   "display_name": "Python 3",
   "language": "python",
   "name": "python3"
  },
  "language_info": {
   "codemirror_mode": {
    "name": "ipython",
    "version": 3
   },
   "file_extension": ".py",
   "mimetype": "text/x-python",
   "name": "python",
   "nbconvert_exporter": "python",
   "pygments_lexer": "ipython3",
   "version": "3.7.4"
  }
 },
 "nbformat": 4,
 "nbformat_minor": 4
}
